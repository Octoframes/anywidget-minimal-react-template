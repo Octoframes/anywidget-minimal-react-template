{
 "cells": [
  {
   "cell_type": "code",
   "execution_count": 20,
   "id": "c69e4477-b0c9-4289-bcb3-2e674f198c31",
   "metadata": {},
   "outputs": [],
   "source": [
    "from qr_code_widget import QRCodeWidget\n",
    "q = QRCodeWidget(content=\"Josdjsdjksdkj\")"
   ]
  },
  {
   "cell_type": "code",
   "execution_count": 21,
   "id": "7422565c",
   "metadata": {},
   "outputs": [
    {
     "data": {
      "application/vnd.jupyter.widget-view+json": {
       "model_id": "bf00f1255cde490591d1b4bbdc0dbe6c",
       "version_major": 2,
       "version_minor": 0
      },
      "text/plain": [
       "QRCodeWidget(content='Josdjsdjksdkj')"
      ]
     },
     "execution_count": 21,
     "metadata": {},
     "output_type": "execute_result"
    }
   ],
   "source": [
    "q"
   ]
  },
  {
   "cell_type": "code",
   "execution_count": 22,
   "id": "bea6b077",
   "metadata": {},
   "outputs": [],
   "source": [
    "q.content = \"Hello World\""
   ]
  },
  {
   "cell_type": "code",
   "execution_count": null,
   "id": "2d5ecc44",
   "metadata": {},
   "outputs": [],
   "source": []
  },
  {
   "cell_type": "code",
   "execution_count": null,
   "id": "768a5b16-aa5d-4f8c-af34-74fd25dc3d87",
   "metadata": {},
   "outputs": [],
   "source": []
  }
 ],
 "metadata": {
  "kernelspec": {
   "display_name": "Python 3 (ipykernel)",
   "language": "python",
   "name": "python3"
  },
  "language_info": {
   "codemirror_mode": {
    "name": "ipython",
    "version": 3
   },
   "file_extension": ".py",
   "mimetype": "text/x-python",
   "name": "python",
   "nbconvert_exporter": "python",
   "pygments_lexer": "ipython3",
   "version": "3.11.4"
  }
 },
 "nbformat": 4,
 "nbformat_minor": 5
}
