{
 "cells": [
  {
   "cell_type": "code",
   "execution_count": 1,
   "id": "c69e4477-b0c9-4289-bcb3-2e674f198c31",
   "metadata": {},
   "outputs": [
    {
     "data": {
      "application/vnd.jupyter.widget-view+json": {
       "model_id": "0129c4e29cbc4052a7f0b839f3a4311c",
       "version_major": 2,
       "version_minor": 0
      },
      "text/plain": [
       "QRCodeWidget(content='Hello World')"
      ]
     },
     "execution_count": 1,
     "metadata": {},
     "output_type": "execute_result"
    }
   ],
   "source": [
    "from hello_widget import QRCodeWidget\n",
    "q = QRCodeWidget(content=\"Hello World\")\n",
    "q"
   ]
  },
  {
   "cell_type": "code",
   "execution_count": null,
   "id": "7422565c",
   "metadata": {},
   "outputs": [],
   "source": []
  }
 ],
 "metadata": {
  "kernelspec": {
   "display_name": "Python 3 (ipykernel)",
   "language": "python",
   "name": "python3"
  },
  "language_info": {
   "codemirror_mode": {
    "name": "ipython",
    "version": 3
   },
   "file_extension": ".py",
   "mimetype": "text/x-python",
   "name": "python",
   "nbconvert_exporter": "python",
   "pygments_lexer": "ipython3",
   "version": "3.11.4"
  }
 },
 "nbformat": 4,
 "nbformat_minor": 5
}
