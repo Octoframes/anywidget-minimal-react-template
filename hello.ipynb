{
 "cells": [
  {
   "cell_type": "code",
   "execution_count": 1,
   "id": "c69e4477-b0c9-4289-bcb3-2e674f198c31",
   "metadata": {},
   "outputs": [],
   "source": [
    "from qr_code_widget import QRCodeWidget\n",
    "q = QRCodeWidget(content=\"Josdjsdjksdkj\")"
   ]
  },
  {
   "cell_type": "code",
   "execution_count": 2,
   "id": "7422565c",
   "metadata": {},
   "outputs": [
    {
     "data": {
      "application/vnd.jupyter.widget-view+json": {
       "model_id": "0846e068ab2a4167a7168e7e4397031b",
       "version_major": 2,
       "version_minor": 0
      },
      "text/plain": [
       "QRCodeWidget(content='Josdjsdjksdkj')"
      ]
     },
     "execution_count": 2,
     "metadata": {},
     "output_type": "execute_result"
    }
   ],
   "source": [
    "q"
   ]
  },
  {
   "cell_type": "code",
   "execution_count": 3,
   "id": "bea6b077",
   "metadata": {},
   "outputs": [],
   "source": [
    "q.content = \"Hello World\""
   ]
  },
  {
   "cell_type": "code",
   "execution_count": null,
   "id": "2d5ecc44",
   "metadata": {},
   "outputs": [],
   "source": []
  }
 ],
 "metadata": {
  "kernelspec": {
   "display_name": "Python 3 (ipykernel)",
   "language": "python",
   "name": "python3"
  },
  "language_info": {
   "codemirror_mode": {
    "name": "ipython",
    "version": 3
   },
   "file_extension": ".py",
   "mimetype": "text/x-python",
   "name": "python",
   "nbconvert_exporter": "python",
   "pygments_lexer": "ipython3",
   "version": "3.11.4"
  }
 },
 "nbformat": 4,
 "nbformat_minor": 5
}
